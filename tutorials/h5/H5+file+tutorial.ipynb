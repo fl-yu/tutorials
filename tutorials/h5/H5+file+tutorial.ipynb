{
 "cells": [
  {
   "cell_type": "markdown",
   "metadata": {},
   "source": [
    "# HDF5 file tutorial in R"
   ]
  },
  {
   "cell_type": "markdown",
   "metadata": {},
   "source": [
    "This is a notebook to show the simple usage of the HDF5 file. HDF5 files can be used as a compression of scientific data that is too large to store in memory. Simple scripts will allow users to retrieve parts of the data and load them into memory to perform calculations and analysis of them without the need of unpacking everything."
   ]
  },
  {
   "cell_type": "markdown",
   "metadata": {},
   "source": [
    "First we want to install the needed packages."
   ]
  },
  {
   "cell_type": "code",
   "execution_count": 1,
   "metadata": {
    "collapsed": false
   },
   "outputs": [
    {
     "name": "stderr",
     "output_type": "stream",
     "text": [
      "Bioconductor version 3.4 (BiocInstaller 1.24.0), ?biocLite for help\n",
      "A new version of Bioconductor is available after installing the most recent\n",
      "  version of R; see http://bioconductor.org/install\n",
      "BioC_mirror: https://bioconductor.org\n",
      "Using Bioconductor 3.4 (BiocInstaller 1.24.0), R 3.3.1 (2016-06-21).\n",
      "Installing package(s) ‘rhdf5’\n",
      "Updating HTML index of packages in '.Library'\n",
      "Making 'packages.html' ... done\n",
      "Old packages: 'assertthat', 'BH', 'car', 'caret', 'codetools', 'colorspace',\n",
      "  'crayon', 'curl', 'DBI', 'devtools', 'digest', 'dplyr', 'evaluate',\n",
      "  'forecast', 'formatR', 'ggplot2', 'git2r', 'htmltools', 'httpuv', 'httr',\n",
      "  'IRdisplay', 'jsonlite', 'knitr', 'lattice', 'lme4', 'markdown', 'MASS',\n",
      "  'Matrix', 'memoise', 'mgcv', 'mime', 'nlme', 'nycflights13', 'openssl',\n",
      "  'pbdZMQ', 'pbkrtest', 'quantreg', 'R6', 'Rcpp', 'RcppArmadillo', 'RcppEigen',\n",
      "  'repr', 'reshape2', 'rmarkdown', 'RSQLite', 'rstudioapi', 'scales', 'shiny',\n",
      "  'SparseM', 'stringi', 'stringr', 'tibble', 'tidyr', 'tseries', 'withr',\n",
      "  'yaml', 'zoo'\n"
     ]
    }
   ],
   "source": [
    "source(\"https://bioconductor.org/biocLite.R\")\n",
    "biocLite(\"rhdf5\")"
   ]
  },
  {
   "cell_type": "code",
   "execution_count": 2,
   "metadata": {
    "collapsed": true
   },
   "outputs": [],
   "source": [
    "library(\"rhdf5\")"
   ]
  },
  {
   "cell_type": "markdown",
   "metadata": {},
   "source": [
    "After installing the bioconductor package and loading the library we can now create a new H5 file."
   ]
  },
  {
   "cell_type": "code",
   "execution_count": 3,
   "metadata": {
    "collapsed": false
   },
   "outputs": [
    {
     "data": {
      "text/html": [
       "TRUE"
      ],
      "text/latex": [
       "TRUE"
      ],
      "text/markdown": [
       "TRUE"
      ],
      "text/plain": [
       "[1] TRUE"
      ]
     },
     "metadata": {},
     "output_type": "display_data"
    }
   ],
   "source": [
    "h5createFile(\"gene_expression.h5\")"
   ]
  },
  {
   "cell_type": "markdown",
   "metadata": {},
   "source": [
    "Folders can be created to sort data entries. For this example we will use two folders, one for meta data and one for the numerical data."
   ]
  },
  {
   "cell_type": "code",
   "execution_count": 4,
   "metadata": {
    "collapsed": false
   },
   "outputs": [
    {
     "data": {
      "text/html": [
       "TRUE"
      ],
      "text/latex": [
       "TRUE"
      ],
      "text/markdown": [
       "TRUE"
      ],
      "text/plain": [
       "[1] TRUE"
      ]
     },
     "metadata": {},
     "output_type": "display_data"
    },
    {
     "data": {
      "text/html": [
       "TRUE"
      ],
      "text/latex": [
       "TRUE"
      ],
      "text/markdown": [
       "TRUE"
      ],
      "text/plain": [
       "[1] TRUE"
      ]
     },
     "metadata": {},
     "output_type": "display_data"
    }
   ],
   "source": [
    "h5createGroup(\"gene_expression.h5\",\"meta\")\n",
    "h5createGroup(\"gene_expression.h5\",\"data\")"
   ]
  },
  {
   "cell_type": "markdown",
   "metadata": {},
   "source": [
    "The data we want to save is in integer format. You can also choose different types of data in the storage.mode. Since we want to compress our gene counts efficiently we are using integer storage.mode.\n",
    "\n",
    "As an example we will just create a random matrix and pretend it's our gene expression."
   ]
  },
  {
   "cell_type": "code",
   "execution_count": 5,
   "metadata": {
    "collapsed": false
   },
   "outputs": [],
   "source": [
    "gene_expression_matrix = matrix(sample(1:10000, 1000*100, replace=T), 1000, 100)"
   ]
  },
  {
   "cell_type": "code",
   "execution_count": 6,
   "metadata": {
    "collapsed": false
   },
   "outputs": [
    {
     "data": {
      "text/html": [
       "<table>\n",
       "<tbody>\n",
       "\t<tr><td>4442</td><td>1299</td><td>5387</td><td>2277</td></tr>\n",
       "\t<tr><td>9931</td><td>3034</td><td>4474</td><td>1307</td></tr>\n",
       "\t<tr><td>6711</td><td>1614</td><td>3058</td><td>9725</td></tr>\n",
       "\t<tr><td>1699</td><td>1211</td><td>6378</td><td>5005</td></tr>\n",
       "</tbody>\n",
       "</table>\n"
      ],
      "text/latex": [
       "\\begin{tabular}{llll}\n",
       "\t 4442 & 1299 & 5387 & 2277\\\\\n",
       "\t 9931 & 3034 & 4474 & 1307\\\\\n",
       "\t 6711 & 1614 & 3058 & 9725\\\\\n",
       "\t 1699 & 1211 & 6378 & 5005\\\\\n",
       "\\end{tabular}\n"
      ],
      "text/markdown": [
       "1. 4442\n",
       "2. 9931\n",
       "3. 6711\n",
       "4. 1699\n",
       "5. 1299\n",
       "6. 3034\n",
       "7. 1614\n",
       "8. 1211\n",
       "9. 5387\n",
       "10. 4474\n",
       "11. 3058\n",
       "12. 6378\n",
       "13. 2277\n",
       "14. 1307\n",
       "15. 9725\n",
       "16. 5005\n",
       "\n",
       "\n"
      ],
      "text/plain": [
       "     [,1] [,2] [,3] [,4]\n",
       "[1,] 4442 1299 5387 2277\n",
       "[2,] 9931 3034 4474 1307\n",
       "[3,] 6711 1614 3058 9725\n",
       "[4,] 1699 1211 6378 5005"
      ]
     },
     "metadata": {},
     "output_type": "display_data"
    }
   ],
   "source": [
    "gene_expression_matrix[1:4,1:4]"
   ]
  },
  {
   "cell_type": "markdown",
   "metadata": {},
   "source": [
    "Now that we have our authentic gene expression we can save it to the hard drive into our newly created H5 file. First we create an empty matrix and then fill in the gene expression. The chunk size defines the data packages that can be retrieved individually."
   ]
  },
  {
   "cell_type": "code",
   "execution_count": 7,
   "metadata": {
    "collapsed": false
   },
   "outputs": [
    {
     "data": {
      "text/html": [
       "TRUE"
      ],
      "text/latex": [
       "TRUE"
      ],
      "text/markdown": [
       "TRUE"
      ],
      "text/plain": [
       "[1] TRUE"
      ]
     },
     "metadata": {},
     "output_type": "display_data"
    }
   ],
   "source": [
    "h5createDataset(\"gene_expression.h5\", \"data/expression\", c(1000, 100), chunk=c(200,100), storage.mode = \"integer\")\n",
    "H5close()\n",
    "h5write(gene_expression_matrix, \"gene_expression.h5\", \"data/expression\", index=list(1:nrow(gene_expression_matrix), 1:ncol(gene_expression_matrix)))\n",
    "H5close()"
   ]
  },
  {
   "cell_type": "markdown",
   "metadata": {},
   "source": [
    "We can also save the gene symbols and column names. We save these vectors in the meta data folder/category. We can save some face gene names as an example. We don't have to build the object before writing if we want to write everything at the same time."
   ]
  },
  {
   "cell_type": "code",
   "execution_count": 8,
   "metadata": {
    "collapsed": false
   },
   "outputs": [],
   "source": [
    "gene_names = as.character(1:1000)\n",
    "h5write(gene_names, \"gene_expression.h5\", \"meta/genes\")\n",
    "H5close()"
   ]
  },
  {
   "cell_type": "markdown",
   "metadata": {},
   "source": [
    "We have now created an h5 file and saved meta data and a gene count matrix. We can see the content with the following command."
   ]
  },
  {
   "cell_type": "code",
   "execution_count": 9,
   "metadata": {
    "collapsed": false
   },
   "outputs": [
    {
     "data": {
      "text/html": [
       "<table>\n",
       "<thead><tr><th></th><th scope=col>group</th><th scope=col>name</th><th scope=col>otype</th><th scope=col>dclass</th><th scope=col>dim</th></tr></thead>\n",
       "<tbody>\n",
       "\t<tr><th scope=row>0</th><td>/        </td><td>data     </td><td>H5I_GROUP</td><td>         </td><td>         </td></tr>\n",
       "\t<tr><th scope=row>1</th><td>/data      </td><td>expression </td><td>H5I_DATASET</td><td>INTEGER    </td><td>1000 x 100 </td></tr>\n",
       "\t<tr><th scope=row>2</th><td>/        </td><td>meta     </td><td>H5I_GROUP</td><td>         </td><td>         </td></tr>\n",
       "\t<tr><th scope=row>3</th><td>/meta      </td><td>genes      </td><td>H5I_DATASET</td><td>STRING     </td><td>1000       </td></tr>\n",
       "</tbody>\n",
       "</table>\n"
      ],
      "text/latex": [
       "\\begin{tabular}{r|lllll}\n",
       "  & group & name & otype & dclass & dim\\\\\n",
       "\\hline\n",
       "\t0 & /           & data        & H5I\\_GROUP &             &            \\\\\n",
       "\t1 & /data         & expression    & H5I\\_DATASET & INTEGER       & 1000 x 100   \\\\\n",
       "\t2 & /           & meta        & H5I\\_GROUP &             &            \\\\\n",
       "\t3 & /meta         & genes         & H5I\\_DATASET & STRING        & 1000         \\\\\n",
       "\\end{tabular}\n"
      ],
      "text/plain": [
       "  group       name       otype  dclass        dim\n",
       "0     /       data   H5I_GROUP                   \n",
       "1 /data expression H5I_DATASET INTEGER 1000 x 100\n",
       "2     /       meta   H5I_GROUP                   \n",
       "3 /meta      genes H5I_DATASET  STRING       1000"
      ]
     },
     "metadata": {},
     "output_type": "display_data"
    }
   ],
   "source": [
    "h5ls(\"gene_expression.h5\")"
   ]
  },
  {
   "cell_type": "markdown",
   "metadata": {},
   "source": [
    "# Reading data from H5"
   ]
  },
  {
   "cell_type": "markdown",
   "metadata": {},
   "source": [
    "Now that we have written the data to the disk we can retrieve parts of it. Here we load all gene names from the meta folder and the first 500 gene expressionvalues in column 1 to 10 and additionally column 20 and 30."
   ]
  },
  {
   "cell_type": "code",
   "execution_count": 10,
   "metadata": {
    "collapsed": false
   },
   "outputs": [],
   "source": [
    "retrieved_genes = h5read(\"gene_expression.h5\", \"meta/genes\")\n",
    "sub_matrix = h5read(\"gene_expression.h5\", \"data/expression\", index=list(1:500, c(1:10, 20, 30)))"
   ]
  },
  {
   "cell_type": "code",
   "execution_count": 11,
   "metadata": {
    "collapsed": false
   },
   "outputs": [
    {
     "data": {
      "text/html": [
       "<ol class=list-inline>\n",
       "\t<li>500</li>\n",
       "\t<li>12</li>\n",
       "</ol>\n"
      ],
      "text/latex": [
       "\\begin{enumerate*}\n",
       "\\item 500\n",
       "\\item 12\n",
       "\\end{enumerate*}\n"
      ],
      "text/markdown": [
       "1. 500\n",
       "2. 12\n",
       "\n",
       "\n"
      ],
      "text/plain": [
       "[1] 500  12"
      ]
     },
     "metadata": {},
     "output_type": "display_data"
    }
   ],
   "source": [
    "dim(sub_matrix)"
   ]
  },
  {
   "cell_type": "code",
   "execution_count": 12,
   "metadata": {
    "collapsed": false
   },
   "outputs": [
    {
     "data": {
      "text/html": [
       "<table>\n",
       "<tbody>\n",
       "\t<tr><td>4442</td><td>1299</td><td>5387</td></tr>\n",
       "\t<tr><td>9931</td><td>3034</td><td>4474</td></tr>\n",
       "\t<tr><td>6711</td><td>1614</td><td>3058</td></tr>\n",
       "</tbody>\n",
       "</table>\n"
      ],
      "text/latex": [
       "\\begin{tabular}{lll}\n",
       "\t 4442 & 1299 & 5387\\\\\n",
       "\t 9931 & 3034 & 4474\\\\\n",
       "\t 6711 & 1614 & 3058\\\\\n",
       "\\end{tabular}\n"
      ],
      "text/markdown": [
       "1. 4442\n",
       "2. 9931\n",
       "3. 6711\n",
       "4. 1299\n",
       "5. 3034\n",
       "6. 1614\n",
       "7. 5387\n",
       "8. 4474\n",
       "9. 3058\n",
       "\n",
       "\n"
      ],
      "text/plain": [
       "     [,1] [,2] [,3]\n",
       "[1,] 4442 1299 5387\n",
       "[2,] 9931 3034 4474\n",
       "[3,] 6711 1614 3058"
      ]
     },
     "metadata": {},
     "output_type": "display_data"
    }
   ],
   "source": [
    "sub_matrix[1:3,1:3]"
   ]
  },
  {
   "cell_type": "code",
   "execution_count": null,
   "metadata": {
    "collapsed": true
   },
   "outputs": [],
   "source": []
  }
 ],
 "metadata": {
  "kernelspec": {
   "display_name": "R",
   "language": "R",
   "name": "ir"
  },
  "language_info": {
   "codemirror_mode": "r",
   "file_extension": ".r",
   "mimetype": "text/x-r-source",
   "name": "R",
   "pygments_lexer": "r",
   "version": "3.3.1"
  }
 },
 "nbformat": 4,
 "nbformat_minor": 1
}
